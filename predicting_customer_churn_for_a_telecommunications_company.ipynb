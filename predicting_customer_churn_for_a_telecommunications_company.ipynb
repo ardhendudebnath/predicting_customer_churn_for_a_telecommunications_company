{
  "nbformat": 4,
  "nbformat_minor": 0,
  "metadata": {
    "colab": {
      "provenance": [],
      "gpuType": "T4"
    },
    "kernelspec": {
      "name": "python3",
      "display_name": "Python 3"
    },
    "language_info": {
      "name": "python"
    },
    "accelerator": "GPU"
  },
  "cells": [
    {
      "cell_type": "code",
      "source": [
        "import pandas as pd\n",
        "from sklearn.model_selection import train_test_split\n",
        "from sklearn.preprocessing import StandardScaler\n",
        "from sklearn.linear_model import LogisticRegression\n",
        "from sklearn.metrics import accuracy_score, precision_score, recall_score, f1_score, roc_auc_score\n",
        "\n",
        "# Define the data\n",
        "data = {\n",
        "    'customerID': ['001', '002', '003', '004', '005'],\n",
        "    'gender': ['Male', 'Female', 'Male', 'Male', 'Female'],\n",
        "    'SeniorCitizen': [0, 1, 0, 0, 1],\n",
        "    'Partner': ['Yes', 'No', 'Yes', 'No', 'Yes'],\n",
        "    'Dependents': ['Yes', 'No', 'No', 'No', 'Yes'],\n",
        "    'tenure': [10, 5, 3, 8, 2],\n",
        "    'PhoneService': ['Yes', 'Yes', 'No', 'Yes', 'Yes'],\n",
        "    'MultipleLines': ['No', 'No', 'No phone service', 'Yes', 'Yes'],\n",
        "    'InternetService': ['DSL', 'Fiber optic', 'Fiber optic', 'DSL', 'DSL'],\n",
        "    'OnlineSecurity': ['No', 'No', 'No', 'Yes', 'No'],\n",
        "    'OnlineBackup': ['Yes', 'No', 'No', 'Yes', 'No'],\n",
        "    'DeviceProtection': ['No', 'No', 'No', 'Yes', 'No'],\n",
        "    'TechSupport': ['No', 'No', 'No', 'No', 'No'],\n",
        "    'StreamingTV': ['No', 'Yes', 'Yes', 'No', 'No'],\n",
        "    'StreamingMovies': ['No', 'No', 'Yes', 'Yes', 'No'],\n",
        "    'Contract': ['Month-to-month', 'One year', 'Month-to-month', 'Two year', 'Month-to-month'],\n",
        "    'PaperlessBilling': ['Yes', 'No', 'Yes', 'No', 'Yes'],\n",
        "    'PaymentMethod': ['Electronic check', 'Mailed check', 'Mailed check', 'Bank transfer (automatic)', 'Electronic check'],\n",
        "    'MonthlyCharges': [50.0, 70.0, 80.0, 60.0, 55.0],\n",
        "    'TotalCharges': [500.0, 350.0, 240.0, 480.0, 110.0],\n",
        "    'Churn': ['No', 'Yes', 'No', 'No', 'Yes']\n",
        "}\n",
        "\n",
        "# Create a DataFrame\n",
        "df = pd.DataFrame(data)\n",
        "\n",
        "# Save DataFrame to CSV file\n",
        "df.to_csv('Telco-Customer-Churn.csv', index=False)\n",
        "\n",
        "# Load the dataset\n",
        "url = 'Telco-Customer-Churn.csv'\n",
        "df = pd.read_csv(url)\n",
        "\n",
        "# Data preprocessing\n",
        "# Convert categorical variables to numerical using one-hot encoding\n",
        "df = pd.get_dummies(df, columns=['gender', 'Partner', 'Dependents', 'PhoneService', 'MultipleLines', 'InternetService', 'OnlineSecurity', 'OnlineBackup', 'DeviceProtection', 'TechSupport', 'StreamingTV', 'StreamingMovies', 'Contract', 'PaperlessBilling', 'PaymentMethod'])\n",
        "\n",
        "# Convert 'Churn' column to binary numeric values\n",
        "df['Churn'] = df['Churn'].apply(lambda x: 1 if x == 'Yes' else 0)\n",
        "\n",
        "# Split data into features and target variable\n",
        "X = df.drop(columns=['customerID', 'Churn'])\n",
        "y = df['Churn']\n",
        "\n",
        "# Split the data into training and testing sets\n",
        "X_train, X_test, y_train, y_test = train_test_split(X, y, test_size=0.3, random_state=42, stratify=y)  # Added stratify=y\n",
        "\n",
        "# Feature scaling\n",
        "scaler = StandardScaler()\n",
        "X_train = scaler.fit_transform(X_train)\n",
        "X_test = scaler.transform(X_test)\n",
        "\n",
        "# Model training\n",
        "model = LogisticRegression(max_iter=1000)\n",
        "model.fit(X_train, y_train)\n",
        "\n",
        "# Model evaluation\n",
        "y_pred = model.predict(X_test)\n",
        "\n",
        "# Calculate evaluation metrics\n",
        "accuracy = accuracy_score(y_test, y_pred)\n",
        "precision = precision_score(y_test, y_pred)\n",
        "recall = recall_score(y_test, y_pred)\n",
        "f1 = f1_score(y_test, y_pred)\n",
        "roc_auc = roc_auc_score(y_test, y_pred)\n",
        "\n",
        "print(\"Accuracy:\", accuracy)\n",
        "print(\"Precision:\", precision)\n",
        "print(\"Recall:\", recall)\n",
        "print(\"F1 Score:\", f1)\n",
        "print(\"ROC AUC Score:\", roc_auc)\n"
      ],
      "metadata": {
        "colab": {
          "base_uri": "https://localhost:8080/"
        },
        "id": "iJ0SPkhUlDLY",
        "outputId": "39179d88-5635-44d2-a20f-dc241c875239"
      },
      "execution_count": 6,
      "outputs": [
        {
          "output_type": "stream",
          "name": "stdout",
          "text": [
            "Accuracy: 0.5\n",
            "Precision: 0.0\n",
            "Recall: 0.0\n",
            "F1 Score: 0.0\n",
            "ROC AUC Score: 0.5\n"
          ]
        },
        {
          "output_type": "stream",
          "name": "stderr",
          "text": [
            "/usr/local/lib/python3.10/dist-packages/sklearn/metrics/_classification.py:1344: UndefinedMetricWarning: Precision is ill-defined and being set to 0.0 due to no predicted samples. Use `zero_division` parameter to control this behavior.\n",
            "  _warn_prf(average, modifier, msg_start, len(result))\n"
          ]
        }
      ]
    }
  ]
}